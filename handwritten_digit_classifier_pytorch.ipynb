{
  "nbformat": 4,
  "nbformat_minor": 0,
  "metadata": {
    "colab": {
      "provenance": []
    },
    "kernelspec": {
      "name": "python3",
      "display_name": "Python 3"
    },
    "language_info": {
      "name": "python"
    }
  },
  "cells": [
    {
      "cell_type": "code",
      "execution_count": 2,
      "metadata": {
        "colab": {
          "base_uri": "https://localhost:8080/",
          "height": 281
        },
        "id": "HWzHboEV0Qdo",
        "outputId": "3e0f4367-c8cf-4429-cf7c-9bc640395b87"
      },
      "outputs": [
        {
          "output_type": "stream",
          "name": "stdout",
          "text": [
            "Numero totale di immagini nel training set: 60000\n",
            "Numero totale di immagini nel test set: 10000\n",
            "Dimensione di un batch di immagini: torch.Size([64, 1, 28, 28])\n",
            "Dimensione di un batch di labels: torch.Size([64])\n",
            "Labels: 9 7 7 7\n"
          ]
        },
        {
          "output_type": "display_data",
          "data": {
            "text/plain": [
              "<Figure size 640x480 with 1 Axes>"
            ],
            "image/png": "[encoded data removed]"
          },
          "metadata": {}
        }
      ],
      "source": [
        "import torch\n",
        "import torchvision\n",
        "import torchvision.transforms as transforms\n",
        "from torch.utils.data import DataLoader\n",
        "import matplotlib.pyplot as plt\n",
        "import numpy as np\n",
        "\n",
        "# 1. Definisci le trasformazioni da applicare ai dati\n",
        "# ToTensor() converte le immagini PIL Image o NumPy ndarray in Tensori PyTorch\n",
        "# e scala i valori dei pixel da [0, 255] a [0.0, 1.0].\n",
        "transform = transforms.ToTensor()\n",
        "\n",
        "# 2. Scarica e carica il dataset MNIST per il training\n",
        "# root: la directory dove salvare il dataset\n",
        "# train=True: indica che vogliamo il set di training\n",
        "# download=True: se il dataset non è presente, lo scarica\n",
        "# transform: applica le trasformazioni definite sopra\n",
        "train_dataset = torchvision.datasets.MNIST(root='./data',\n",
        "                                           train=True,\n",
        "                                           transform=transform,\n",
        "                                           download=True)\n",
        "\n",
        "# 3. Scarica e carica il dataset MNIST per il test\n",
        "test_dataset = torchvision.datasets.MNIST(root='./data',\n",
        "                                          train=False,\n",
        "                                          transform=transform,\n",
        "                                          download=True)\n",
        "\n",
        "# 4. Crea i DataLoader\n",
        "# Questi oggetti ti permettono di iterare sul dataset in batch\n",
        "# batch_size: il numero di immagini da processare per volta\n",
        "# shuffle=True: mescola i dati ad ogni epoch per il set di training (utile per l'addestramento)\n",
        "# num_workers: numero di sottoprocessi da usare per il caricamento dei dati (spesso 0 o 2 per iniziare)\n",
        "train_loader = DataLoader(dataset=train_dataset,\n",
        "                          batch_size=64, # Un batch tipico è 64 o 128 immagini\n",
        "                          shuffle=True)\n",
        "\n",
        "test_loader = DataLoader(dataset=test_dataset,\n",
        "                         batch_size=64,\n",
        "                         shuffle=False) # Non mescolare il set di test\n",
        "\n",
        "# --- Puoi anche visualizzare un esempio per vedere cosa hai caricato ---\n",
        "print(f\"Numero totale di immagini nel training set: {len(train_dataset)}\")\n",
        "print(f\"Numero totale di immagini nel test set: {len(test_dataset)}\")\n",
        "\n",
        "# Prendi un batch di immagini per visualizzarlo (solo a scopo dimostrativo)\n",
        "dataiter = iter(train_loader)\n",
        "images, labels = next(dataiter)\n",
        "\n",
        "print(f\"Dimensione di un batch di immagini: {images.shape}\") # Output: torch.Size([64, 1, 28, 28])\n",
        "print(f\"Dimensione di un batch di labels: {labels.shape}\")   # Output: torch.Size([64])\n",
        "\n",
        "# Funzione per mostrare le immagini (opzionale, ma utile per capire)\n",
        "def imshow(img):\n",
        "    npimg = img.numpy()\n",
        "    plt.imshow(np.transpose(npimg, (1, 2, 0))) # Trasponi per visualizzare correttamente\n",
        "    plt.show()\n",
        "\n",
        "# Mostra le prime 4 immagini del batch\n",
        "print('Labels:', ' '.join(f'{labels[j].item()}' for j in range(4)))\n",
        "imshow(torchvision.utils.make_grid(images[:4]))"
      ]
    },
    {
      "cell_type": "code",
      "source": [
        "import torch.nn as nn\n",
        "import torch.nn.functional as F\n",
        "\n",
        "# 1. Definisci la classe della tua rete neurale\n",
        "class NeuralNetwork(nn.Module):\n",
        "    def __init__(self):\n",
        "        super(NeuralNetwork, self).__init__()\n",
        "        # Definiamo gli strati (layers) della nostra rete\n",
        "\n",
        "        # Strato lineare (Fully Connected): prende 28*28=784 input e li mappa a 128 output\n",
        "        # Questo è il primo strato \"nascosto\"\n",
        "        self.fc1 = nn.Linear(28 * 28, 128)\n",
        "\n",
        "        # Secondo strato lineare: prende 128 input e li mappa a 64 output\n",
        "        # Questo è il secondo strato \"nascosto\"\n",
        "        self.fc2 = nn.Linear(128, 64)\n",
        "\n",
        "        # Terzo strato lineare (output): prende 64 input e li mappa a 10 output\n",
        "        # 10 output perché abbiamo 10 classi (cifre da 0 a 9)\n",
        "        self.fc3 = nn.Linear(64, 10)\n",
        "\n",
        "    # 2. Definisci come i dati \"fluissono\" attraverso la rete (passaggio in avanti)\n",
        "    def forward(self, x):\n",
        "        # Prima di passare l'immagine agli strati lineari, dobbiamo \"appiattirla\"\n",
        "        # L'immagine è 1x28x28 (Canali x Altezza x Larghezza)\n",
        "        # La trasformiamo in un vettore lungo 784\n",
        "        x = x.view(-1, 28 * 28) # Il -1 significa \"inferisci la dimensione da solo\"\n",
        "\n",
        "        # Applichiamo il primo strato lineare e poi una funzione di attivazione ReLU\n",
        "        # La ReLU introduce la non-linearità, essenziale per imparare pattern complessi\n",
        "        x = F.relu(self.fc1(x))\n",
        "\n",
        "        # Applichiamo il secondo strato lineare e un'altra ReLU\n",
        "        x = F.relu(self.fc2(x))\n",
        "\n",
        "        # Applichiamo l'ultimo strato lineare (senza ReLU)\n",
        "        # L'output di questo strato sono i \"logits\" per le 10 classi\n",
        "        x = self.fc3(x)\n",
        "        return x\n",
        "\n",
        "# 3. Crea un'istanza del tuo modello\n",
        "model = NeuralNetwork()\n",
        "\n",
        "# Stampa la struttura del modello per vederla\n",
        "print(model)\n",
        "\n",
        "# 4. Sposta il modello sulla GPU se disponibile\n",
        "# Questo è molto importante per accelerare il training\n",
        "device = torch.device(\"cuda\" if torch.cuda.is_available() else \"cpu\")\n",
        "model.to(device)\n",
        "\n",
        "print(f\"\\nIl modello sarà addestrato su: {device}\")"
      ],
      "metadata": {
        "colab": {
          "base_uri": "https://localhost:8080/"
        },
        "id": "40jmZB1y2sto",
        "outputId": "e3077aa6-7cf1-4c7b-9e10-f3052e0fb14f"
      },
      "execution_count": 3,
      "outputs": [
        {
          "output_type": "stream",
          "name": "stdout",
          "text": [
            "NeuralNetwork(\n",
            "  (fc1): Linear(in_features=784, out_features=128, bias=True)\n",
            "  (fc2): Linear(in_features=128, out_features=64, bias=True)\n",
            "  (fc3): Linear(in_features=64, out_features=10, bias=True)\n",
            ")\n",
            "\n",
            "Il modello sarà addestrato su: cpu\n"
          ]
        }
      ]
    },
    {
      "cell_type": "code",
      "source": [
        "import torch.optim as optim\n",
        "\n",
        "# Definisci la Funzione di Costo\n",
        "# Per la classificazione multi-classe, CrossEntropyLoss è la scelta standard\n",
        "criterion = nn.CrossEntropyLoss()\n",
        "\n",
        "# Definisci l'Ottimizzatore\n",
        "# optimizer: ottimizzatore che useremo (es. Adam)\n",
        "# model.parameters(): dice all'ottimizzatore quali \"pesi\" del modello deve aggiustare\n",
        "# lr: \"learning rate\" (tasso di apprendimento). È un iperparametro cruciale!\n",
        "#     Determina quanto grandi sono i \"passi\" che l'ottimizzatore fa ad ogni aggiustamento.\n",
        "#     Valori tipici sono 0.01, 0.001, 0.0001. Iniziamo con 0.001.\n",
        "optimizer = optim.Adam(model.parameters(), lr=0.001)\n",
        "\n",
        "print(\"\\nFunzione di Costo e Ottimizzatore configurati!\")\n",
        "print(f\"Funzione di Costo: {criterion}\")\n",
        "print(f\"Ottimizzatore: {optimizer}\")"
      ],
      "metadata": {
        "colab": {
          "base_uri": "https://localhost:8080/"
        },
        "id": "Zo69YxrT3Fw0",
        "outputId": "8b33c2ff-674b-4cb6-9435-adfa2c394be8"
      },
      "execution_count": 4,
      "outputs": [
        {
          "output_type": "stream",
          "name": "stdout",
          "text": [
            "\n",
            "Funzione di Costo e Ottimizzatore configurati!\n",
            "Funzione di Costo: CrossEntropyLoss()\n",
            "Ottimizzatore: Adam (\n",
            "Parameter Group 0\n",
            "    amsgrad: False\n",
            "    betas: (0.9, 0.999)\n",
            "    capturable: False\n",
            "    differentiable: False\n",
            "    eps: 1e-08\n",
            "    foreach: None\n",
            "    fused: None\n",
            "    lr: 0.001\n",
            "    maximize: False\n",
            "    weight_decay: 0\n",
            ")\n"
          ]
        }
      ]
    },
    {
      "cell_type": "code",
      "source": [
        "# Imposta il numero di \"epoche\" (quante volte il modello vedrà l'intero dataset)\n",
        "num_epochs = 5 # Iniziamo con 5 epoche, puoi aumentarle in seguito\n",
        "\n",
        "# Ciclo di training principale\n",
        "for epoch in range(num_epochs):\n",
        "    # Metti il modello in modalità training\n",
        "    # Questo è importante perché alcuni strati (come Dropout o BatchNorm)\n",
        "    # si comportano diversamente in training e in inferenza.\n",
        "    model.train()\n",
        "\n",
        "    running_loss = 0.0 # Per tenere traccia della loss media di questa epoca\n",
        "    correct_predictions = 0 # Per contare le previsioni corrette\n",
        "    total_predictions = 0 # Per contare il totale delle previsioni\n",
        "\n",
        "    # Itera su tutti i batch del training_loader\n",
        "    # data: sono le immagini del batch\n",
        "    # labels: sono le etichette corrette per quelle immagini\n",
        "    for i, (images, labels) in enumerate(train_loader):\n",
        "        # Sposta i dati sulla GPU (o CPU) se disponibile, come abbiamo fatto per il modello\n",
        "        images = images.to(device)\n",
        "        labels = labels.to(device)\n",
        "\n",
        "        # 1. Zero i gradienti dell'ottimizzatore\n",
        "        # Questo è cruciale! PyTorch accumula i gradienti, quindi dobbiamo resettarli\n",
        "        # per ogni nuovo batch per evitare che si sommino da iterazioni precedenti.\n",
        "        optimizer.zero_grad()\n",
        "\n",
        "        # 2. Forward pass: il modello fa le sue previsioni\n",
        "        outputs = model(images)\n",
        "\n",
        "        # 3. Calcola la loss: quanto è lontano il modello dalla verità\n",
        "        loss = criterion(outputs, labels)\n",
        "\n",
        "        # 4. Backward pass: calcola i gradienti della loss rispetto ai pesi del modello\n",
        "        # Questo è il \"backpropagation\" - la magia che dice come aggiustare i pesi.\n",
        "        loss.backward()\n",
        "\n",
        "        # 5. Ottimizzazione: aggiorna i pesi del modello usando i gradienti calcolati\n",
        "        optimizer.step()\n",
        "\n",
        "        # Aggiorna la running loss e le statistiche di accuratezza\n",
        "        running_loss += loss.item() # loss.item() prende il valore Python numerico del tensore loss\n",
        "        _, predicted = torch.max(outputs.data, 1) # Trova l'indice della classe con la probabilità più alta\n",
        "        total_predictions += labels.size(0) # Aumenta il conteggio totale delle immagini\n",
        "        correct_predictions += (predicted == labels).sum().item() # Conta le previsioni corrette\n",
        "\n",
        "        # Stampa lo stato ogni tot batch per avere un feedback\n",
        "        if (i+1) % 100 == 0:\n",
        "            print(f'Epoch [{epoch+1}/{num_epochs}], Step [{i+1}/{len(train_loader)}], Loss: {loss.item():.4f}')\n",
        "\n",
        "    # Calcola e stampa la loss media e l'accuratezza per l'intera epoca\n",
        "    epoch_loss = running_loss / len(train_loader)\n",
        "    epoch_accuracy = (correct_predictions / total_predictions) * 100\n",
        "    print(f'Epoch [{epoch+1}/{num_epochs}] Completa. Loss media: {epoch_loss:.4f}, Accuratezza Training: {epoch_accuracy:.2f}%')\n",
        "\n",
        "print(\"\\nAddestramento completato!\")"
      ],
      "metadata": {
        "colab": {
          "base_uri": "https://localhost:8080/"
        },
        "id": "hzj-jmNx3_A9",
        "outputId": "ddc0183f-9405-4bb8-e05a-3dd4355030d1"
      },
      "execution_count": 5,
      "outputs": [
        {
          "output_type": "stream",
          "name": "stdout",
          "text": [
            "Epoch [1/5], Step [100/938], Loss: 0.6407\n",
            "Epoch [1/5], Step [200/938], Loss: 0.3724\n",
            "Epoch [1/5], Step [300/938], Loss: 0.1120\n",
            "Epoch [1/5], Step [400/938], Loss: 0.4870\n",
            "Epoch [1/5], Step [500/938], Loss: 0.2676\n",
            "Epoch [1/5], Step [600/938], Loss: 0.3327\n",
            "Epoch [1/5], Step [700/938], Loss: 0.3265\n",
            "Epoch [1/5], Step [800/938], Loss: 0.2477\n",
            "Epoch [1/5], Step [900/938], Loss: 0.1249\n",
            "Epoch [1/5] Completa. Loss media: 0.3384, Accuratezza Training: 90.44%\n",
            "Epoch [2/5], Step [100/938], Loss: 0.1606\n",
            "Epoch [2/5], Step [200/938], Loss: 0.0371\n",
            "Epoch [2/5], Step [300/938], Loss: 0.1612\n",
            "Epoch [2/5], Step [400/938], Loss: 0.0448\n",
            "Epoch [2/5], Step [500/938], Loss: 0.1093\n",
            "Epoch [2/5], Step [600/938], Loss: 0.0973\n",
            "Epoch [2/5], Step [700/938], Loss: 0.2017\n",
            "Epoch [2/5], Step [800/938], Loss: 0.0894\n",
            "Epoch [2/5], Step [900/938], Loss: 0.0847\n",
            "Epoch [2/5] Completa. Loss media: 0.1390, Accuratezza Training: 95.86%\n",
            "Epoch [3/5], Step [100/938], Loss: 0.1547\n",
            "Epoch [3/5], Step [200/938], Loss: 0.0913\n",
            "Epoch [3/5], Step [300/938], Loss: 0.0548\n",
            "Epoch [3/5], Step [400/938], Loss: 0.0705\n",
            "Epoch [3/5], Step [500/938], Loss: 0.1240\n",
            "Epoch [3/5], Step [600/938], Loss: 0.1597\n",
            "Epoch [3/5], Step [700/938], Loss: 0.0361\n",
            "Epoch [3/5], Step [800/938], Loss: 0.0279\n",
            "Epoch [3/5], Step [900/938], Loss: 0.0343\n",
            "Epoch [3/5] Completa. Loss media: 0.0961, Accuratezza Training: 97.08%\n",
            "Epoch [4/5], Step [100/938], Loss: 0.0262\n",
            "Epoch [4/5], Step [200/938], Loss: 0.1332\n",
            "Epoch [4/5], Step [300/938], Loss: 0.1346\n",
            "Epoch [4/5], Step [400/938], Loss: 0.0903\n",
            "Epoch [4/5], Step [500/938], Loss: 0.0336\n",
            "Epoch [4/5], Step [600/938], Loss: 0.1144\n",
            "Epoch [4/5], Step [700/938], Loss: 0.0268\n",
            "Epoch [4/5], Step [800/938], Loss: 0.0235\n",
            "Epoch [4/5], Step [900/938], Loss: 0.1731\n",
            "Epoch [4/5] Completa. Loss media: 0.0745, Accuratezza Training: 97.69%\n",
            "Epoch [5/5], Step [100/938], Loss: 0.0173\n",
            "Epoch [5/5], Step [200/938], Loss: 0.0266\n",
            "Epoch [5/5], Step [300/938], Loss: 0.1465\n",
            "Epoch [5/5], Step [400/938], Loss: 0.0870\n",
            "Epoch [5/5], Step [500/938], Loss: 0.1313\n",
            "Epoch [5/5], Step [600/938], Loss: 0.0747\n",
            "Epoch [5/5], Step [700/938], Loss: 0.0831\n",
            "Epoch [5/5], Step [800/938], Loss: 0.0844\n",
            "Epoch [5/5], Step [900/938], Loss: 0.0377\n",
            "Epoch [5/5] Completa. Loss media: 0.0563, Accuratezza Training: 98.23%\n",
            "\n",
            "Addestramento completato!\n"
          ]
        }
      ]
    },
    {
      "cell_type": "code",
      "source": [
        "# Metti il modello in modalità valutazione\n",
        "model.eval()\n",
        "\n",
        "# Disabilita il calcolo dei gradienti per le operazioni di inferenza\n",
        "with torch.no_grad():\n",
        "    correct = 0\n",
        "    total = 0\n",
        "    # Itera sui batch del test_loader\n",
        "    for images, labels in test_loader:\n",
        "        # Sposta i dati sulla GPU (o CPU) come per il training\n",
        "        images = images.to(device)\n",
        "        labels = labels.to(device)\n",
        "\n",
        "        # Forward pass: il modello fa le previsioni\n",
        "        outputs = model(images)\n",
        "\n",
        "        # Trova l'indice della classe con la probabilità più alta\n",
        "        # torch.max(outputs.data, 1) restituisce (valori_max, indici_max)\n",
        "        # ci interessa solo gli indici (predicted)\n",
        "        _, predicted = torch.max(outputs.data, 1)\n",
        "\n",
        "        # Aggiorna il conteggio totale delle etichette\n",
        "        total += labels.size(0) # labels.size(0) è la dimensione del batch\n",
        "\n",
        "        # Aggiorna il conteggio delle previsioni corrette\n",
        "        # (predicted == labels) crea un tensore booleano (True/False)\n",
        "        # .sum() somma i True (che sono 1) e i False (che sono 0)\n",
        "        # .item() converte il tensore di un singolo elemento in un valore Python standard\n",
        "        correct += (predicted == labels).sum().item()\n",
        "\n",
        "    # Calcola l'accuratezza finale sul set di test\n",
        "    accuracy = 100 * correct / total\n",
        "\n",
        "    print(f'\\nAccuratezza del modello sul test set di 10000 immagini: {accuracy:.2f}%')"
      ],
      "metadata": {
        "colab": {
          "base_uri": "https://localhost:8080/"
        },
        "id": "Xe77V3Ea4l76",
        "outputId": "7081819b-b079-4b5b-a245-8367e301dafb"
      },
      "execution_count": 6,
      "outputs": [
        {
          "output_type": "stream",
          "name": "stdout",
          "text": [
            "\n",
            "Accuratezza del modello sul test set di 10000 immagini: 97.64%\n"
          ]
        }
      ]
    },
    {
      "cell_type": "code",
      "source": [
        "import matplotlib.pyplot as plt\n",
        "import numpy as np\n",
        "import torch # Assicurati che torch sia importato\n",
        "\n",
        "# Metti il modello in modalità valutazione\n",
        "model.eval()\n",
        "\n",
        "# Disabilita il calcolo dei gradienti\n",
        "with torch.no_grad():\n",
        "    # Prendi un batch di immagini dal test_loader (dati mai visti)\n",
        "    # È utile creare un nuovo iteratore per non influenzare i loader esistenti\n",
        "    dataiter_test = iter(test_loader)\n",
        "    images, labels = next(dataiter_test)\n",
        "\n",
        "    # Sposta immagini e etichette sul dispositivo corretto (GPU/CPU)\n",
        "    images = images.to(device)\n",
        "    labels = labels.to(device)\n",
        "\n",
        "    # Fai una previsione con il modello\n",
        "    outputs = model(images)\n",
        "\n",
        "    # Ottieni le previsioni della classe (indice con il punteggio più alto)\n",
        "    _, predicted = torch.max(outputs, 1)\n",
        "\n",
        "    # --- Ora visualizziamo i risultati ---\n",
        "    # Converti i tensori PyTorch in NumPy array per la visualizzazione con Matplotlib\n",
        "    images_np = images.cpu().numpy() # Sposta su CPU prima di convertire in NumPy\n",
        "    labels_np = labels.cpu().numpy()\n",
        "    predicted_np = predicted.cpu().numpy()\n",
        "\n",
        "    # Configura la figura per visualizzare le immagini\n",
        "    fig = plt.figure(figsize=(12, 12)) # Dimensioni della figura\n",
        "    for idx in np.arange(25): # Visualizza le prime 25 immagini del batch\n",
        "        ax = fig.add_subplot(5, 5, idx+1, xticks=[], yticks=[])\n",
        "        # Immagini MNIST sono 1x28x28, per imshow serve 28x28\n",
        "        ax.imshow(np.squeeze(images_np[idx]), cmap='gray')\n",
        "\n",
        "        # Colora il titolo in verde se la previsione è corretta, rosso altrimenti\n",
        "        title_color = 'green' if predicted_np[idx] == labels_np[idx] else 'red'\n",
        "        ax.set_title(f\"Pred: {predicted_np[idx]}\\nTrue: {labels_np[idx]}\",\n",
        "                     color=title_color)\n",
        "    plt.tight_layout() # Aggiusta la spaziatura tra i subplot\n",
        "    plt.show()"
      ],
      "metadata": {
        "colab": {
          "base_uri": "https://localhost:8080/",
          "height": 1000
        },
        "id": "UofvHaOz5FDa",
        "outputId": "98573384-a841-46ee-9be1-a29963a55dc4"
      },
      "execution_count": 7,
      "outputs": [
        {
          "output_type": "display_data",
          "data": {
            "text/plain": [
              "<Figure size 1200x1200 with 25 Axes>"
            ],
            "image/png": "[encoded data removed]"
          },
          "metadata": {}
        }
      ]
    },
    {
      "cell_type": "code",
      "source": [
        "# Aggiungi questo codice dopo il blocco di visualizzazione delle previsioni\n",
        "print(\"\\n--- Immagini Classificate Erratamente ---\")\n",
        "\n",
        "incorrect_indices = np.where(predicted_np != labels_np)[0] # Trova gli indici degli errori\n",
        "\n",
        "if len(incorrect_indices) == 0:\n",
        "    print(\"Nessuna immagine classificata erroneamente in questo batch. Ottimo lavoro!\")\n",
        "else:\n",
        "    fig_errors = plt.figure(figsize=(10, 10))\n",
        "    for i, idx in enumerate(incorrect_indices[:16]): # Visualizza al massimo 16 errori\n",
        "        if i >= 16: # Limita a 16 per non ingolfare la visualizzazione\n",
        "            break\n",
        "        ax = fig_errors.add_subplot(4, 4, i+1, xticks=[], yticks=[])\n",
        "        ax.imshow(np.squeeze(images_np[idx]), cmap='gray')\n",
        "        ax.set_title(f\"Pred: {predicted_np[idx]}\\nTrue: {labels_np[idx]}\",\n",
        "                     color='red')\n",
        "    plt.tight_layout()\n",
        "    plt.show()"
      ],
      "metadata": {
        "colab": {
          "base_uri": "https://localhost:8080/"
        },
        "id": "8qPlK41Y5O2S",
        "outputId": "22e2cf02-66f4-4a3e-f889-517db008fdc5"
      },
      "execution_count": 8,
      "outputs": [
        {
          "output_type": "stream",
          "name": "stdout",
          "text": [
            "\n",
            "--- Immagini Classificate Erratamente ---\n",
            "Nessuna immagine classificata erroneamente in questo batch. Ottimo lavoro!\n"
          ]
        }
      ]
    },
    {
      "cell_type": "code",
      "source": [
        "import torch # Assicurati che torch sia importato\n",
        "\n",
        "# Definisci il percorso e il nome del file dove salvare il modello\n",
        "# È buona pratica usare l'estensione .pth o .pt\n",
        "model_save_path = 'mnist_neural_network.pth'\n",
        "\n",
        "# Salva lo stato del modello\n",
        "# model.state_dict() restituisce un dizionario contenente tutti i parametri addestrabili.\n",
        "torch.save(model.state_dict(), model_save_path)\n",
        "\n",
        "print(f\"Modello salvato con successo in: {model_save_path}\")"
      ],
      "metadata": {
        "colab": {
          "base_uri": "https://localhost:8080/"
        },
        "id": "MaCIKu8R5iA6",
        "outputId": "720a7ab4-d394-4ffa-fd33-3b02e4c4542f"
      },
      "execution_count": 9,
      "outputs": [
        {
          "output_type": "stream",
          "name": "stdout",
          "text": [
            "Modello salvato con successo in: mnist_neural_network.pth\n"
          ]
        }
      ]
    },
    {
      "cell_type": "code",
      "source": [
        "import torch\n",
        "import torch.nn as nn\n",
        "import torch.nn.functional as F\n",
        "\n",
        "# --- 1. Ridefinisci la classe del modello (QUESTO È FONDAMENTALE!) ---\n",
        "# Se stai eseguendo questo codice in una nuova sessione o in un nuovo file,\n",
        "# devi copiare qui la definizione esatta della classe NeuralNetwork.\n",
        "# Se sei nella stessa sessione di Colab e non hai riavviato il runtime,\n",
        "# la classe è già definita, ma è buona pratica includerla per chiarezza.\n",
        "class NeuralNetwork(nn.Module):\n",
        "    def __init__(self):\n",
        "        super(NeuralNetwork, self).__init__()\n",
        "        self.fc1 = nn.Linear(28 * 28, 128)\n",
        "        self.fc2 = nn.Linear(128, 64)\n",
        "        self.fc3 = nn.Linear(64, 10)\n",
        "\n",
        "    def forward(self, x):\n",
        "        x = x.view(-1, 28 * 28)\n",
        "        x = F.relu(self.fc1(x))\n",
        "        x = F.relu(self.fc2(x))\n",
        "        x = self.fc3(x)\n",
        "        return x\n",
        "\n",
        "# --- 2. Definisci il percorso del file del modello salvato ---\n",
        "model_save_path = 'mnist_neural_network.pth' # Deve corrispondere al nome con cui lo hai salvato\n",
        "\n",
        "# --- 3. Crea una nuova istanza del modello (con la stessa architettura) ---\n",
        "loaded_model = NeuralNetwork()\n",
        "\n",
        "# --- 4. Sposta il modello sul dispositivo corretto (GPU o CPU) ---\n",
        "# È importante che il modello sia sullo stesso dispositivo dei dati che gli darai in input.\n",
        "device = torch.device(\"cuda\" if torch.cuda.is_available() else \"cpu\")\n",
        "loaded_model.to(device)\n",
        "\n",
        "# --- 5. Carica lo state_dict dal file e caricalo nell'istanza del modello ---\n",
        "# torch.load(path, map_location=device) carica il dizionario dei pesi.\n",
        "# map_location=device è utile per assicurarsi che i pesi vengano caricati\n",
        "# sul dispositivo corretto, indipendentemente da dove sono stati salvati.\n",
        "loaded_model.load_state_dict(torch.load(model_save_path, map_location=device))\n",
        "\n",
        "# --- 6. Metti il modello in modalità valutazione ---\n",
        "# Cruciale per l'inferenza, disabilita comportamenti specifici del training (es. dropout).\n",
        "loaded_model.eval()\n",
        "\n",
        "print(f\"Modello caricato con successo da: {model_save_path}\")\n",
        "print(\"Il modello caricato è pronto per fare previsioni!\")\n",
        "\n",
        "# Ora puoi usare 'loaded_model' per fare nuove previsioni, ad esempio:\n",
        "# with torch.no_grad():\n",
        "#     # Prendi un'immagine di test\n",
        "#     sample_image, sample_label = test_dataset[0]\n",
        "#     sample_image = sample_image.unsqueeze(0).to(device) # Aggiungi dimensione batch e sposta su device\n",
        "#     output = loaded_model(sample_image)\n",
        "#     _, predicted_class = torch.max(output.data, 1)\n",
        "#     print(f\"Previsione per la prima immagine di test: {predicted_class.item()}\")\n",
        "#     print(f\"Etichetta reale: {sample_label}\")"
      ],
      "metadata": {
        "colab": {
          "base_uri": "https://localhost:8080/"
        },
        "id": "wYG5Eyco547k",
        "outputId": "6580f5c5-c425-47c4-fccc-729e01056657"
      },
      "execution_count": 10,
      "outputs": [
        {
          "output_type": "stream",
          "name": "stdout",
          "text": [
            "Modello caricato con successo da: mnist_neural_network.pth\n",
            "Il modello caricato è pronto per fare previsioni!\n"
          ]
        }
      ]
    },
    {
      "cell_type": "code",
      "source": [
        "from PIL import Image # Per caricare e manipolare le immagini\n",
        "import torchvision.transforms as transforms # Le stesse trasformazioni usate per MNIST\n",
        "import matplotlib.pyplot as plt\n",
        "import numpy as np\n",
        "import torch # Assicurati che torch sia importato\n",
        "\n",
        "# --- Assicurati che il tuo modello sia già caricato e disponibile come 'loaded_model' ---\n",
        "# Se hai riavviato Colab, devi rieseguire le celle precedenti per:\n",
        "# 1. Definire la classe NeuralNetwork\n",
        "# 2. Caricare il modello con loaded_model = NeuralNetwork() e loaded_model.load_state_dict(...)\n",
        "\n",
        "# 1. Definisci il percorso dell'immagine che hai caricato\n",
        "image_path = 'images.jpeg' # <--- CAMBIA QUESTO CON IL NOME DEL TUO FILE!\n",
        "\n",
        "# 2. Definisci le trasformazioni necessarie per la tua immagine\n",
        "# Devono essere le stesse (o molto simili) a quelle usate per MNIST:\n",
        "# - Converti in scala di grigi (.L è per Luminance)\n",
        "# - Ridimensiona a 28x28 pixel\n",
        "# - Converti in tensore PyTorch\n",
        "# - Normalizza (MNIST ha pixel da 0 a 255, ToTensor li scala a 0.0-1.0)\n",
        "transform_custom_image = transforms.Compose([\n",
        "    transforms.Grayscale(num_output_channels=1), # Assicurati che sia in scala di grigi\n",
        "    transforms.Resize((28, 28)),                 # Ridimensiona a 28x28\n",
        "    transforms.ToTensor(),                       # Converti in tensore (scala a 0.0-1.0)\n",
        "    # Se hai normalizzato MNIST con mean/std, dovresti farlo anche qui.\n",
        "    # Per MNIST semplice con solo ToTensor(), non serve altro qui.\n",
        "])\n",
        "\n",
        "# 3. Carica e pre-elabora l'immagine\n",
        "try:\n",
        "    image = Image.open(image_path)\n",
        "    # Applica le trasformazioni\n",
        "    input_tensor = transform_custom_image(image)\n",
        "\n",
        "    # Aggiungi una dimensione per il batch (il modello si aspetta [batch_size, channels, height, width])\n",
        "    # La tua immagine è 1x28x28, il modello si aspetta [1, 1, 28, 28] per una singola immagine\n",
        "    input_batch = input_tensor.unsqueeze(0) # Aggiunge una dimensione all'inizio\n",
        "\n",
        "    # Sposta l'input sul dispositivo corretto (GPU o CPU)\n",
        "    input_batch = input_batch.to(device) # 'device' è la variabile che hai definito prima ('cuda' o 'cpu')\n",
        "\n",
        "    print(f\"Immagine caricata e pre-elaborata. Dimensione del tensore: {input_batch.shape}\")\n",
        "\n",
        "    # 4. Fai una previsione con il modello caricato\n",
        "    loaded_model.eval() # Metti il modello in modalità valutazione\n",
        "    with torch.no_grad(): # Disabilita il calcolo dei gradienti\n",
        "        output = loaded_model(input_batch)\n",
        "\n",
        "    # Ottieni la classe prevista (l'indice con il punteggio più alto)\n",
        "    _, predicted_class = torch.max(output.data, 1)\n",
        "\n",
        "    # Converti il tensore della previsione in un numero Python standard\n",
        "    predicted_digit = predicted_class.item()\n",
        "\n",
        "    print(f\"Il modello prevede che l'immagine sia un: {predicted_digit}\")\n",
        "\n",
        "    # 5. Visualizza l'immagine e la previsione\n",
        "    plt.imshow(np.squeeze(input_tensor.cpu().numpy()), cmap='gray')\n",
        "    plt.title(f\"Previsione del modello: {predicted_digit}\")\n",
        "    plt.axis('off') # Nasconde gli assi\n",
        "    plt.show()\n",
        "\n",
        "except FileNotFoundError:\n",
        "    print(f\"Errore: Il file '{image_path}' non è stato trovato. Assicurati di averlo caricato su Colab e che il nome sia corretto.\")\n",
        "except Exception as e:\n",
        "    print(f\"Si è verificato un errore durante l'elaborazione dell'immagine: {e}\")"
      ],
      "metadata": {
        "colab": {
          "base_uri": "https://localhost:8080/",
          "height": 463
        },
        "id": "WNsZonVO6uGo",
        "outputId": "42aec474-8ded-4ed0-ac85-81014df51f15"
      },
      "execution_count": 14,
      "outputs": [
        {
          "output_type": "stream",
          "name": "stdout",
          "text": [
            "Immagine caricata e pre-elaborata. Dimensione del tensore: torch.Size([1, 1, 28, 28])\n",
            "Il modello prevede che l'immagine sia un: 5\n"
          ]
        },
        {
          "output_type": "display_data",
          "data": {
            "text/plain": [
              "<Figure size 640x480 with 1 Axes>"
            ],
            "image/png": "[encoded data removed]"
          },
          "metadata": {}
        }
      ]
    },
    {
      "cell_type": "code",
      "source": [
        "from PIL import Image # Per caricare e manipolare le immagini\n",
        "import torchvision.transforms as transforms # Le stesse trasformazioni usate per MNIST\n",
        "import matplotlib.pyplot as plt\n",
        "import numpy as np\n",
        "import torch # Assicurati che torch sia importato\n",
        "\n",
        "# --- Assicurati che il tuo modello sia già caricato e disponibile come 'loaded_model' ---\n",
        "# Se hai riavviato Colab, devi rieseguire le celle precedenti per:\n",
        "# 1. Definire la classe NeuralNetwork\n",
        "# 2. Caricare il modello con loaded_model = NeuralNetwork() e loaded_model.load_state_dict(...)\n",
        "# Assicurati anche che la variabile 'device' sia definita.\n",
        "\n",
        "# 1. Definisci il percorso dell'immagine che hai caricato\n",
        "# --- CAMBIA QUESTO CON IL NOME ESATTO DEL TUO FILE! ---\n",
        "image_path = 'photo_2025-07-16_17-51-57.jpg' # Esempio: se hai caricato \"mia_cifra_7.png\"\n",
        "\n",
        "# --- Funzione per invertire i colori (se necessario) ---\n",
        "# Le immagini MNIST hanno cifre bianche su sfondo nero (pixel cifra ~1, sfondo ~0).\n",
        "# Se la tua immagine è nera su sfondo bianco (pixel cifra ~0, sfondo ~1), dobbiamo invertirla.\n",
        "def invert_colors_if_needed(image_tensor):\n",
        "    # Calcola la media dei valori dei pixel. Se è alta (più bianca), probabilmente è nero su bianco.\n",
        "    mean_pixel_value = image_tensor.mean().item()\n",
        "    if mean_pixel_value > 0.5: # Euristicamente, se la media è maggiore di 0.5 (su scala 0-1)\n",
        "        print(\"Rilevata immagine con sfondo chiaro (prob. nero su bianco). Inverto i colori.\")\n",
        "        return 1 - image_tensor # Inverte i valori (0 diventa 1, 1 diventa 0)\n",
        "    else:\n",
        "        print(\"Rilevata immagine con sfondo scuro (prob. bianco su nero). Nessuna inversione necessaria.\")\n",
        "        return image_tensor\n",
        "\n",
        "# 2. Definisci le trasformazioni necessarie per la tua immagine\n",
        "transform_custom_image = transforms.Compose([\n",
        "    transforms.Grayscale(num_output_channels=1), # Assicurati che sia in scala di grigi (1 canale)\n",
        "    transforms.Resize((28, 28)),                 # Ridimensiona a 28x28 pixel\n",
        "    transforms.ToTensor(),                       # Converti in tensore e scala a 0.0-1.0\n",
        "])\n",
        "\n",
        "# 3. Carica e pre-elabora l'immagine\n",
        "try:\n",
        "    image = Image.open(image_path)\n",
        "\n",
        "    # --- Visualizza l'immagine originale ---\n",
        "    plt.figure(figsize=(3, 3))\n",
        "    plt.imshow(image, cmap='gray')\n",
        "    plt.title(\"Immagine Originale\")\n",
        "    plt.axis('off')\n",
        "    plt.show()\n",
        "\n",
        "    # Applica le trasformazioni di base (grayscale, resize, ToTensor)\n",
        "    input_tensor = transform_custom_image(image)\n",
        "\n",
        "    # --- Applica l'inversione dei colori se necessario ---\n",
        "    input_tensor = invert_colors_if_needed(input_tensor)\n",
        "\n",
        "    # --- VISUALIZZA L'IMMAGINE DOPO LA PRE-ELABORAZIONE ---\n",
        "    # Questo è FONDAMENTALE per il debugging!\n",
        "    # L'immagine qui sotto DEVE assomigliare a un'immagine MNIST (cifra bianca su sfondo nero)\n",
        "    plt.figure(figsize=(3, 3))\n",
        "    plt.imshow(np.squeeze(input_tensor.cpu().numpy()), cmap='gray')\n",
        "    plt.title(\"Immagine Pre-elaborata (come la vede il modello)\")\n",
        "    plt.axis('off')\n",
        "    plt.show()\n",
        "\n",
        "\n",
        "    # Aggiungi una dimensione per il batch (il modello si aspetta [batch_size, channels, height, width])\n",
        "    # Per una singola immagine, sarà [1, 1, 28, 28]\n",
        "    input_batch = input_tensor.unsqueeze(0)\n",
        "\n",
        "    # Sposta l'input sul dispositivo corretto (GPU o CPU)\n",
        "    input_batch = input_batch.to(device)\n",
        "\n",
        "    print(f\"Immagine caricata e pre-elaborata. Dimensione del tensore: {input_batch.shape}\")\n",
        "\n",
        "    # 4. Fai una previsione con il modello caricato\n",
        "    loaded_model.eval() # Metti il modello in modalità valutazione\n",
        "    with torch.no_grad(): # Disabilita il calcolo dei gradienti\n",
        "        output = loaded_model(input_batch)\n",
        "\n",
        "    # Ottieni la classe prevista (l'indice con il punteggio più alto)\n",
        "    _, predicted_class = torch.max(output.data, 1)\n",
        "\n",
        "    # Converti il tensore della previsione in un numero Python standard\n",
        "    predicted_digit = predicted_class.item()\n",
        "\n",
        "    print(f\"\\nIl modello prevede che l'immagine sia un: {predicted_digit}\")\n",
        "\n",
        "except FileNotFoundError:\n",
        "    print(f\"Errore: Il file '{image_path}' non è stato trovato. Assicurati di averlo caricato su Colab e che il nome sia corretto.\")\n",
        "except Exception as e:\n",
        "    print(f\"Si è verificato un errore durante l'elaborazione dell'immagine: {e}\")"
      ],
      "metadata": {
        "colab": {
          "base_uri": "https://localhost:8080/",
          "height": 632
        },
        "id": "ZhGiV1ZX7tiK",
        "outputId": "27152a56-ccb3-4489-a180-3e6ac7e918ec"
      },
      "execution_count": 18,
      "outputs": [
        {
          "output_type": "display_data",
          "data": {
            "text/plain": [
              "<Figure size 300x300 with 1 Axes>"
            ],
            "image/png": "[encoded data removed]"
          },
          "metadata": {}
        },
        {
          "output_type": "stream",
          "name": "stdout",
          "text": [
            "Rilevata immagine con sfondo chiaro (prob. nero su bianco). Inverto i colori.\n"
          ]
        },
        {
          "output_type": "display_data",
          "data": {
            "text/plain": [
              "<Figure size 300x300 with 1 Axes>"
            ],
            "image/png": "[encoded data removed]"
          },
          "metadata": {}
        },
        {
          "output_type": "stream",
          "name": "stdout",
          "text": [
            "Immagine caricata e pre-elaborata. Dimensione del tensore: torch.Size([1, 1, 28, 28])\n",
            "\n",
            "Il modello prevede che l'immagine sia un: 2\n"
          ]
        }
      ]
    }
  ]
}